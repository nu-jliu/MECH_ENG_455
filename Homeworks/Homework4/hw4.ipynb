{
 "cells": [
  {
   "cell_type": "code",
   "execution_count": 1,
   "metadata": {},
   "outputs": [],
   "source": [
    "import sympy as sp\n",
    "from IPython.display import display, Markdown"
   ]
  },
  {
   "cell_type": "code",
   "execution_count": 20,
   "metadata": {},
   "outputs": [
    {
     "data": {
      "text/latex": [
       "$\\displaystyle \\left[\\begin{matrix}Q_{1} & 0 & 0\\\\0 & Q_{2} & 0\\\\0 & 0 & Q_{3}\\end{matrix}\\right]$"
      ],
      "text/plain": [
       "Matrix([\n",
       "[Q_1,   0,   0],\n",
       "[  0, Q_2,   0],\n",
       "[  0,   0, Q_3]])"
      ]
     },
     "metadata": {},
     "output_type": "display_data"
    },
    {
     "data": {
      "text/latex": [
       "$\\displaystyle \\left[\\begin{matrix}Q_{1} \\left(x - x_{d}\\right)^{2} + Q_{2} \\left(y - y_{d}\\right)^{2} + Q_{3} \\left(\\theta - \\theta_{d}\\right)^{2}\\end{matrix}\\right]$"
      ],
      "text/plain": [
       "Matrix([[Q_1*(x - x_d)**2 + Q_2*(y - y_d)**2 + Q_3*(\\theta - \\theta_d)**2]])"
      ]
     },
     "metadata": {},
     "output_type": "display_data"
    },
    {
     "data": {
      "text/latex": [
       "$\\displaystyle \\left[\\begin{matrix}Q_{1} \\cdot \\left(2 x - 2 x_{d}\\right)\\\\Q_{2} \\cdot \\left(2 y - 2 y_{d}\\right)\\\\Q_{3} \\cdot \\left(2 \\theta - 2 \\theta_{d}\\right)\\end{matrix}\\right]$"
      ],
      "text/plain": [
       "Matrix([\n",
       "[          Q_1*(2*x - 2*x_d)],\n",
       "[          Q_2*(2*y - 2*y_d)],\n",
       "[Q_3*(2*\\theta - 2*\\theta_d)]])"
      ]
     },
     "metadata": {},
     "output_type": "display_data"
    }
   ],
   "source": [
    "x, y, theta = sp.symbols(r'x, y, \\theta')\n",
    "x_vec = sp.Matrix([x, y, theta])\n",
    "xd, yd, thetad = sp.symbols(r'x_d, y_d, \\theta_d')\n",
    "xd_vec = sp.Matrix([xd, yd, thetad])\n",
    "Q1, Q2, Q3 = sp.symbols(r'Q_1, Q_2, Q_3')\n",
    "Qx = sp.diag(Q1, Q2, Q3)\n",
    "display(Qx)\n",
    "l = (x_vec-xd_vec).T @ Qx @ (x_vec-xd_vec)\n",
    "display(l)\n",
    "dldx = l.jacobian(x_vec).T\n",
    "display(dldx)\n",
    "# xd_vec"
   ]
  }
 ],
 "metadata": {
  "kernelspec": {
   "display_name": ".venv",
   "language": "python",
   "name": "python3"
  },
  "language_info": {
   "codemirror_mode": {
    "name": "ipython",
    "version": 3
   },
   "file_extension": ".py",
   "mimetype": "text/x-python",
   "name": "python",
   "nbconvert_exporter": "python",
   "pygments_lexer": "ipython3",
   "version": "3.10.12"
  }
 },
 "nbformat": 4,
 "nbformat_minor": 2
}
