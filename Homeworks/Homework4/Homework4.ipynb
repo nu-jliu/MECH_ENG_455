{
  "cells": [
    {
      "cell_type": "code",
      "execution_count": null,
      "metadata": {
        "id": "_PEQFQ53exkF"
      },
      "outputs": [],
      "source": [
        "import copy\n",
        "import sys\n",
        "import matplotlib.pyplot as plt\n",
        "\n",
        "import sympy as sp\n",
        "import numpy as np\n",
        "from IPython.display import display, Markdown"
      ]
    },
    {
      "cell_type": "markdown",
      "metadata": {
        "id": "7YTo-7xvexkG"
      },
      "source": [
        "## Symbolic Calculations"
      ]
    },
    {
      "cell_type": "code",
      "execution_count": null,
      "metadata": {
        "id": "C-rSYKhqexkI"
      },
      "outputs": [],
      "source": [
        "x, y, theta = sp.symbols(r'x, y, \\theta')\n",
        "xd, yd, thetad = sp.symbols(r'x_d, y_d, \\theta_d')\n",
        "u1, u2 = sp.symbols(r'u_1, u_2')\n",
        "Q1, Q2, Q3 = sp.symbols(r'Q_1, Q_2, Q_3')\n",
        "R1, R2 = sp.symbols(r'R_1, R_2')"
      ]
    },
    {
      "cell_type": "code",
      "execution_count": null,
      "metadata": {
        "id": "HJt7UocOexkI",
        "outputId": "8c2a03b6-6300-45ae-9ef0-ca1cbf04eccf"
      },
      "outputs": [
        {
          "data": {
            "text/markdown": [
              "$\\dot{\\vec{x}}=\\left[\\begin{matrix}u_{1} \\cos{\\left(\\theta \\right)}\\\\u_{1} \\sin{\\left(\\theta \\right)}\\\\u_{2}\\end{matrix}\\right]$"
            ],
            "text/plain": [
              "<IPython.core.display.Markdown object>"
            ]
          },
          "metadata": {},
          "output_type": "display_data"
        }
      ],
      "source": [
        "xdot = sp.Matrix([sp.cos(theta)*u1, sp.sin(theta)*u1, u2])\n",
        "left = r'\\dot{\\vec{x}}='\n",
        "display(Markdown(f'${left}{sp.latex(xdot)}$'))\n",
        "# print(sp.latex(xdot))"
      ]
    },
    {
      "cell_type": "code",
      "execution_count": null,
      "metadata": {
        "id": "OKxFW2vcexkJ",
        "outputId": "7cb7850c-f706-4f5c-9487-55788aec75a8"
      },
      "outputs": [
        {
          "data": {
            "text/markdown": [
              "$\\vec{x}=\\left[\\begin{matrix}x\\\\y\\\\\\theta\\end{matrix}\\right]$"
            ],
            "text/plain": [
              "<IPython.core.display.Markdown object>"
            ]
          },
          "metadata": {},
          "output_type": "display_data"
        },
        {
          "data": {
            "text/markdown": [
              "$\\vec{u}=\\left[\\begin{matrix}u_{1}\\\\u_{2}\\end{matrix}\\right]$"
            ],
            "text/plain": [
              "<IPython.core.display.Markdown object>"
            ]
          },
          "metadata": {},
          "output_type": "display_data"
        }
      ],
      "source": [
        "x_vec = sp.Matrix([x, y, theta])\n",
        "xd_vec = sp.Matrix([xd, yd, thetad])\n",
        "u_vec = sp.Matrix([u1, u2])\n",
        "\n",
        "x_left = r'\\vec{x}='\n",
        "u_left = r'\\vec{u}='\n",
        "display(Markdown(f'${x_left}{sp.latex(x_vec)}$'))\n",
        "display(Markdown(f'${u_left}{sp.latex(u_vec)}$'))"
      ]
    },
    {
      "cell_type": "code",
      "execution_count": null,
      "metadata": {
        "id": "-pCIM-l0exkJ",
        "outputId": "5d60aa18-d632-4373-c24f-676ac5029f32"
      },
      "outputs": [
        {
          "data": {
            "text/markdown": [
              "$A=\\left[\\begin{matrix}0 & 0 & - u_{1} \\sin{\\left(\\theta \\right)}\\\\0 & 0 & u_{1} \\cos{\\left(\\theta \\right)}\\\\0 & 0 & 0\\end{matrix}\\right]$"
            ],
            "text/plain": [
              "<IPython.core.display.Markdown object>"
            ]
          },
          "metadata": {},
          "output_type": "display_data"
        },
        {
          "data": {
            "text/markdown": [
              "$B=\\left[\\begin{matrix}\\cos{\\left(\\theta \\right)} & 0\\\\\\sin{\\left(\\theta \\right)} & 0\\\\0 & 1\\end{matrix}\\right]$"
            ],
            "text/plain": [
              "<IPython.core.display.Markdown object>"
            ]
          },
          "metadata": {},
          "output_type": "display_data"
        }
      ],
      "source": [
        "A_mat = xdot.jacobian(x_vec)\n",
        "B_mat = xdot.jacobian(u_vec)\n",
        "\n",
        "A_left = r'A='\n",
        "B_left = r'B='\n",
        "\n",
        "display(Markdown(f'${A_left}{sp.latex(A_mat)}$'))\n",
        "display(Markdown(f'${B_left}{sp.latex(B_mat)}$'))"
      ]
    },
    {
      "cell_type": "code",
      "execution_count": null,
      "metadata": {
        "id": "aRzC2EROexkK",
        "outputId": "ee827cb2-57fe-4733-a8d6-c542fe5cbe2d"
      },
      "outputs": [
        {
          "data": {
            "text/markdown": [
              "$Q_x=\\left[\\begin{matrix}Q_{1} & 0 & 0\\\\0 & Q_{2} & 0\\\\0 & 0 & Q_{3}\\end{matrix}\\right]$"
            ],
            "text/plain": [
              "<IPython.core.display.Markdown object>"
            ]
          },
          "metadata": {},
          "output_type": "display_data"
        },
        {
          "data": {
            "text/markdown": [
              "$R_u=\\left[\\begin{matrix}R_{1} & 0\\\\0 & R_{2}\\end{matrix}\\right]$"
            ],
            "text/plain": [
              "<IPython.core.display.Markdown object>"
            ]
          },
          "metadata": {},
          "output_type": "display_data"
        }
      ],
      "source": [
        "Qx = sp.diag(Q1, Q2, Q3)\n",
        "Ru = sp.diag(R1, R2)\n",
        "\n",
        "qx_left = 'Q_x='\n",
        "ru_left = 'R_u='\n",
        "\n",
        "display(Markdown(f'${qx_left}{sp.latex(Qx)}$'))\n",
        "display(Markdown(f'${ru_left}{sp.latex(Ru)}$'))"
      ]
    },
    {
      "cell_type": "code",
      "execution_count": null,
      "metadata": {
        "id": "hs1JpTJRexkK",
        "outputId": "2fa3cbf5-1c76-460c-c197-3a4b79c129b0"
      },
      "outputs": [
        {
          "data": {
            "text/markdown": [
              "$l(x, u)=Q_{1} \\left(x - x_{d}\\right)^{2} + Q_{2} \\left(y - y_{d}\\right)^{2} + Q_{3} \\left(\\theta - \\theta_{d}\\right)^{2} + R_{1} u_{1}^{2} + R_{2} u_{2}^{2}$"
            ],
            "text/plain": [
              "<IPython.core.display.Markdown object>"
            ]
          },
          "metadata": {},
          "output_type": "display_data"
        }
      ],
      "source": [
        "l = (x_vec - xd_vec).T @ Qx @ (x_vec - xd_vec) + u_vec.T @ Ru @ u_vec\n",
        "\n",
        "left_l = 'l(x, u)='\n",
        "display(Markdown(f'${left_l}{sp.latex(l[0])}$'))"
      ]
    },
    {
      "cell_type": "code",
      "execution_count": null,
      "metadata": {
        "id": "ts-1B0XkexkK",
        "outputId": "c432dbb6-70a6-4b98-a1e0-485c312371d7"
      },
      "outputs": [
        {
          "data": {
            "text/latex": [
              "$\\displaystyle \\left[\\begin{matrix}Q_{1} \\cdot \\left(2 x - 2 x_{d}\\right)\\\\Q_{2} \\cdot \\left(2 y - 2 y_{d}\\right)\\\\Q_{3} \\cdot \\left(2 \\theta - 2 \\theta_{d}\\right)\\end{matrix}\\right]$"
            ],
            "text/plain": [
              "Matrix([\n",
              "[          Q_1*(2*x - 2*x_d)],\n",
              "[          Q_2*(2*y - 2*y_d)],\n",
              "[Q_3*(2*\\theta - 2*\\theta_d)]])"
            ]
          },
          "metadata": {},
          "output_type": "display_data"
        },
        {
          "data": {
            "text/latex": [
              "$\\displaystyle \\left[\\begin{matrix}2 R_{1} u_{1}\\\\2 R_{2} u_{2}\\end{matrix}\\right]$"
            ],
            "text/plain": [
              "Matrix([\n",
              "[2*R_1*u_1],\n",
              "[2*R_2*u_2]])"
            ]
          },
          "metadata": {},
          "output_type": "display_data"
        }
      ],
      "source": [
        "dldx = l.jacobian(x_vec).T\n",
        "dldu = l.jacobian(u_vec).T\n",
        "\n",
        "display(dldx)\n",
        "display(dldu)"
      ]
    },
    {
      "cell_type": "markdown",
      "metadata": {
        "id": "H6vbV3_0exkL"
      },
      "source": [
        "## Numeric Calculations"
      ]
    },
    {
      "cell_type": "code",
      "execution_count": null,
      "metadata": {
        "id": "iOQL2wiTexkL"
      },
      "outputs": [],
      "source": [
        "# Clean environment\n",
        "# sys.modules[__name__].__dict__.clear()"
      ]
    },
    {
      "cell_type": "code",
      "execution_count": null,
      "metadata": {
        "id": "DgrdmleFexkL"
      },
      "outputs": [],
      "source": [
        "### define parameters\n",
        "\n",
        "dt = 0.1\n",
        "x0 = np.array([0.0, 0.0, np.pi/2.0])\n",
        "tsteps = 63\n",
        "init_u_traj = np.tile(np.array([1.0, -0.5]), reps=(tsteps,1))\n",
        "\n",
        "Q_x = np.diag([10.0, 10.0, 2.0])\n",
        "R_u = np.diag([4.0, 2.0])\n",
        "P1 = np.diag([20.0, 20.0, 5.0])\n",
        "\n",
        "Q_z = np.diag([5.0, 5.0, 1.0])\n",
        "R_v = np.diag([2.0, 1.0])"
      ]
    },
    {
      "cell_type": "code",
      "execution_count": null,
      "metadata": {
        "id": "N3xakMwzexkL"
      },
      "outputs": [],
      "source": [
        "def dyn(xt, ut):\n",
        "    # xdot = np.zeros(3)  # replace this\n",
        "    theta = xt[2]\n",
        "    u1 = ut[0]\n",
        "    u2 = ut[1]\n",
        "    x1dot = np.cos(theta) * u1\n",
        "    x2dot = np.sin(theta) * u1\n",
        "    x3dot = u2\n",
        "\n",
        "    xdot = np.array([x1dot, x2dot, x3dot])\n",
        "    return xdot\n",
        "\n",
        "\n",
        "def get_A(t, xt, ut):\n",
        "    theta = xt[2]\n",
        "    u1 = ut[1]\n",
        "    A_mat = np.zeros((3, 3))  # replace this\n",
        "    A_mat[0, 2] = -np.sin(theta) * u1\n",
        "    A_mat[1, 2] = np.cos(theta) * u1\n",
        "    return A_mat\n",
        "\n",
        "\n",
        "def get_B(t, xt, ut):\n",
        "    theta = xt[2]\n",
        "    B_mat = np.zeros((3, 2))  # replace this\n",
        "    B_mat[0, 0] = np.cos(theta)\n",
        "    B_mat[1, 0] = np.sin(theta)\n",
        "    B_mat[2, 1] = 1\n",
        "    return B_mat\n",
        "\n",
        "\n",
        "def get_xd(t):\n",
        "    xd = np.array([4.0 / (2.0 * np.pi) * t, 0.0, np.pi / 2.0])\n",
        "    return xd\n",
        "\n",
        "\n",
        "def step(xt, ut, dt):\n",
        "    # xt_new = xt + dt * dyn(xt, ut)  # recommended: replace it with RK4 integration\n",
        "    k1 = dt * dyn(xt, ut)\n",
        "    k2 = dt * dyn(xt + k1 / 2.0, ut)\n",
        "    k3 = dt * dyn(xt + k2 / 2.0, ut)\n",
        "    k4 = dt * dyn(xt + k3, ut)\n",
        "\n",
        "    xt_new = xt + 1.0 / 6.0 * (k1 + 2.0 * k2 + 2.0 * k3 + k4)\n",
        "    return xt_new\n",
        "\n",
        "\n",
        "def traj_sim(x0, ulist):\n",
        "    tsteps = ulist.shape[0]\n",
        "    x_traj = np.zeros((tsteps, 3))\n",
        "    xt = copy.deepcopy(x0)\n",
        "    for t in range(tsteps):\n",
        "        xt_new = step(xt, ulist[t], dt)\n",
        "        x_traj[t] = copy.deepcopy(xt_new)\n",
        "        xt = copy.deepcopy(xt_new)\n",
        "    return x_traj\n",
        "\n",
        "\n",
        "def loss(t, xt, ut):\n",
        "    # xd = np.array([2.0 * t / np.pi, 0.0, np.pi / 2.0])  # desired system state at time t\n",
        "    xd = get_xd(t)\n",
        "\n",
        "    x_diff = xt - xd\n",
        "    # x_loss = 0.0  # replace this\n",
        "    x_loss = x_diff.T @ Q_x @ x_diff\n",
        "    # u_loss = 0.0  # replace this\n",
        "    u_loss = ut.T @ R_u @ ut\n",
        "\n",
        "    return x_loss + u_loss\n",
        "\n",
        "\n",
        "def dldx(t, xt, ut):\n",
        "    # xd = np.array([2.0 * t / np.pi, 0.0, np.pi / 2.0])\n",
        "    xd = get_xd(t)\n",
        "    qlist = np.diag(Q_x)\n",
        "\n",
        "    # dvec = np.zeros(3)  # replace this\n",
        "    dx = xt - xd\n",
        "    dvec = qlist * 2 * dx\n",
        "    return dvec\n",
        "\n",
        "\n",
        "def dldu(t, xt, ut):\n",
        "    # dvec = np.zeros(2)  # replace this\n",
        "    rlist = np.diag(R_u)\n",
        "    dvec = 2 * rlist * ut\n",
        "    return dvec\n",
        "\n",
        "# xd_vec"
      ]
    },
    {
      "cell_type": "code",
      "execution_count": null,
      "metadata": {
        "id": "x7L4nXKWexkM"
      },
      "outputs": [],
      "source": [
        "def ilqr_iter(x0, u_traj):\n",
        "    \"\"\"\n",
        "    :param x0: initial state of the system\n",
        "    :param u_traj: current estimation of the optimal control trajectory\n",
        "    :return: the descent direction for the control\n",
        "    \"\"\"\n",
        "    # forward simulate the state trajectory\n",
        "    x_traj = traj_sim(x0, u_traj)\n",
        "\n",
        "    # compute other variables needed for specifying the dynamics of z(t) and p(t)\n",
        "    A_list = np.zeros((tsteps, 3, 3))\n",
        "    B_list = np.zeros((tsteps, 3, 2))\n",
        "    a_list = np.zeros((tsteps, 3))\n",
        "    b_list = np.zeros((tsteps, 2))\n",
        "    for t_idx in range(tsteps):\n",
        "        t = t_idx * dt\n",
        "        A_list[t_idx] = get_A(t, x_traj[t_idx], u_traj[t_idx])\n",
        "        B_list[t_idx] = get_B(t, x_traj[t_idx], u_traj[t_idx])\n",
        "        a_list[t_idx] = dldx(t, x_traj[t_idx], u_traj[t_idx])\n",
        "        b_list[t_idx] = dldu(t, x_traj[t_idx], u_traj[t_idx])\n",
        "\n",
        "    xd_T = np.array([\n",
        "        2.0*(tsteps-1)*dt / np.pi, 0.0, np.pi/2.0\n",
        "    ])  # desired terminal state\n",
        "    p1 = np.zeros(3)  # replace it to be the terminal condition p(T)\n",
        "\n",
        "    def zp_dyn(t, zp):\n",
        "        t_idx = (t/dt).astype(int)\n",
        "        At = A_list[t_idx]\n",
        "        Bt = B_list[t_idx]\n",
        "        at = a_list[t_idx]\n",
        "        bt = b_list[t_idx]\n",
        "\n",
        "        M_11 = np.zeros((3,3))  # replace this\n",
        "        M_12 = np.zeros((3,3))  # replace this\n",
        "        M_21 = np.zeros((3,3))  # replace this\n",
        "        M_22 = np.zeros((3,3))  # replace this\n",
        "        dyn_mat = np.block([\n",
        "            [M_11, M_12],\n",
        "            [M_21, M_22]\n",
        "        ])\n",
        "\n",
        "        m_1 = np.zeros(3)  # replace this\n",
        "        m_2 = np.zeros(3)  # replace this\n",
        "        dyn_vec = np.hstack([m_1, m_2])\n",
        "\n",
        "        return dyn_mat @ zp + dyn_vec\n",
        "\n",
        "    # this will be the actual dynamics function you provide to solve_bvp,\n",
        "    # it takes in a list of time steps and corresponding [z(t), p(t)]\n",
        "    # and returns a list of [zdot(t), pdot(t)]\n",
        "    def zp_dyn_list(t_list, zp_list):\n",
        "        list_len = len(t_list)\n",
        "        zp_dot_list = np.zeros((6, list_len))\n",
        "        for _i in range(list_len):\n",
        "            zp_dot_list[:,_i] = zp_dyn(t_list[_i], zp_list[:,_i])\n",
        "        return zp_dot_list\n",
        "\n",
        "    # boundary condition (inputs are [z(0),p(0)] and [z(T),p(T)])\n",
        "    def zp_bc(zp_0, zp_T):\n",
        "        return np.zeros(6)  # replace this\n",
        "\n",
        "    ### The solver will say it does not converge, but the returned result\n",
        "    ### is numerically accurate enough for our use\n",
        "    zp_traj = np.zeros((tsteps,6))  # replace this by using solve_bvp\n",
        "\n",
        "    z_traj = zp_traj[:,:3]\n",
        "    p_traj = zp_traj[:,3:]\n",
        "\n",
        "    v_traj = np.zeros((tsteps, 2))\n",
        "    for _i in range(tsteps):\n",
        "        At = A_list[_i]\n",
        "        Bt = B_list[_i]\n",
        "        at = a_list[_i]\n",
        "        bt = b_list[_i]\n",
        "\n",
        "        zt = z_traj[_i]\n",
        "        pt = p_traj[_i]\n",
        "\n",
        "        vt = np.zeros(2)  # replace this\n",
        "        v_traj[_i] = vt\n",
        "\n",
        "    return v_traj"
      ]
    },
    {
      "cell_type": "code",
      "execution_count": null,
      "metadata": {
        "id": "1oySE5anexkM"
      },
      "outputs": [],
      "source": [
        "# Start iLQR iterations here\n",
        "\n",
        "u_traj = init_u_traj.copy()\n",
        "for iter in range(10):\n",
        "    # forward simulate the current trajectory\n",
        "    x_traj = traj_sim(x0, u_traj)\n",
        "\n",
        "    # visualize the current trajectory\n",
        "    fig, ax = plt.subplots(1, 1)\n",
        "    ax.set_title('Iter: {:d}'.format(iter))\n",
        "    ax.set_aspect('equal')\n",
        "    ax.set_xlim(-0.2, 4.2)\n",
        "    ax.set_ylim(-0.2, 2.2)\n",
        "    ax.plot(x_traj[:,0], x_traj[:,1], linestyle='-', color='C0')\n",
        "    plt.show()\n",
        "    plt.close()\n",
        "\n",
        "    # get descent direction\n",
        "    v_traj = ilqr_iter(x0, u_traj)\n",
        "\n",
        "    # Armijo line search parameters\n",
        "    gamma = 1.0  # initial step size\n",
        "    alpha = 1e-04\n",
        "    beta = 0.5\n",
        "\n",
        "    ### Implement Armijo line search here to update step size gamma\n",
        "\n",
        "    # update control for the next iteration\n",
        "    u_traj += gamma * v_traj"
      ]
    }
  ],
  "metadata": {
    "kernelspec": {
      "display_name": ".venv",
      "language": "python",
      "name": "python3"
    },
    "language_info": {
      "codemirror_mode": {
        "name": "ipython",
        "version": 3
      },
      "file_extension": ".py",
      "mimetype": "text/x-python",
      "name": "python",
      "nbconvert_exporter": "python",
      "pygments_lexer": "ipython3",
      "version": "3.10.12"
    },
    "colab": {
      "provenance": []
    }
  },
  "nbformat": 4,
  "nbformat_minor": 0
}